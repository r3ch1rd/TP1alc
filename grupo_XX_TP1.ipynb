{
 "cells": [
  {
   "cell_type": "markdown",
   "id": "7c9189f6",
   "metadata": {},
   "source": [
    "# Trabajo Práctico 1 - Cálculo de Ranking Page"
   ]
  },
  {
   "cell_type": "markdown",
   "id": "6e0f8dd8-6d20-43c0-987b-5f613f0168d6",
   "metadata": {},
   "source": [
    "## Enunciado"
   ]
  },
  {
   "cell_type": "markdown",
   "id": "11f7face-a325-4e30-b13e-0c3d84280c5e",
   "metadata": {},
   "source": [
    "### Pregunta 1 - ¿Por que la matriz A definida en (4) es equivalente a $p \\ \\mathbf{W} \\ \\mathbf{D} + e \\ z^t$ ? Justificar."
   ]
  },
  {
   "cell_type": "markdown",
   "id": "e69c407d-9132-421c-8d02-508da3bb3ae6",
   "metadata": {},
   "source": [
    "Por definición, cda una de las entradas de A es \n",
    " \n",
    "$a_{ij}= \\left\\{ \\begin{array}{lcc} (1-p)/n + (p\\,w_{ij})/c_j & si & c_j \\neq 0 \\\\ \\\\ 1/n & si & c_j=0 \\end{array} \\right.$\n",
    "\n",
    "Por definición, las entradas de W son  \n",
    "\n",
    "$w_{ij}= \\left\\{ \\begin{array}{lcc} 1 & si & \\text{la página j tiene link a la página i} \\\\ \\\\ 0 & si & \\text{la página j no tiene link a la página i} \\end{array} \\right.$\n",
    "\n",
    "Sabemos que la diagonal es 0 pues no hay autolinks\n",
    "\n",
    "D es una matriz diagonal con elementos djj como\n",
    " \n",
    "$d_{jj}= \\left\\{ \\begin{array}{lcc} 1/c_j & si & c_j \\neq 0 \\\\ \\\\ 0 & si & c_j=0 \\end{array} \\right.$\n",
    "\n",
    "entonces teniendo en cuenta el la definición de rango, las entradas de WD serán\n",
    "\n",
    "$(WD)_{ij}= \\left\\{ \\begin{array}{lcc} w_{ij}/c_j & si & c_j \\neq 0 \\\\ \\\\ 0 & si & c_j=0 \\end{array} \\right.$\n",
    "\n",
    "luego \n",
    "\n",
    "$(pWD)_{ij}= \\left\\{ \\begin{array}{lcc} (p\\,w_{ij})/c_j & si & c_j \\neq 0 \\\\ \\\\ 0 & si & c_j=0 \\end{array} \\right.$\n",
    "\n",
    "Por otro lado tenemos z, un vector de dimensión n con elementos como \n",
    "\n",
    "$z_{j}= \\left\\{ \\begin{array}{lcc} (1-p)/n & si & c_j \\neq 0 \\\\ \\\\ 1/n & si & c_j=0 \\end{array} \\right.$\n",
    "\n",
    "y e, un vector de tamaño n con todas sus entradas iguales a 1\n",
    "\n",
    "el producto $ez^t$ tendría los elementos como \n",
    "\n",
    "$(ez^t)_{ij}= \\left\\{ \\begin{array}{lcc} (1-p)/n & si & c_j \\neq 0 \\\\ \\\\ 1/n & si & c_j=0 \\end{array} \\right.$\n",
    "\n",
    "concluyendo, la suma $pWD + ez^t$ se define por entrada como\n",
    "\n",
    "$(pWD + ez^t)_{ij}= \\left\\{ \\begin{array}{lcc} (1-p)/n + (p\\,w_{ij})/c_j  & si & c_j \\neq 0 \\\\ \\\\ 1/n & si & c_j=0 \\end{array} \\right.$\n",
    "\n",
    "Lo cual es igual a A."
   ]
  },
  {
   "cell_type": "markdown",
   "id": "6ea60699-4c07-40fb-8f71-ec4cacf32708",
   "metadata": {},
   "source": [
    "### Pregunta 2 -  ¿Cómo se garantiza existencia de la factorización $LU$? ¿ La matriz $(\\mathbf{I} - p \\ \\mathbf{W} \\ \\mathbf{D})$ está bien condicionada? ¿Cómo influye el valor de $p$?"
   ]
  },
  {
   "cell_type": "markdown",
   "id": "7bd6874b-654c-4964-89eb-20674ab7a540",
   "metadata": {},
   "source": [
    "$ \\textbf{Comienzo demostrando que (I - pWD) tiene factorización LU} \\\\ $\n",
    "\n",
    "$ \\text{Llamo a (I - pWD) = H} $\n",
    "\n",
    "$ \\text{Queremos ver que es, y todas sus submatrices, inversible. Sabiendo que } det(H) = det(H^t) $\n",
    "\n",
    "$ (1.)\\;\\text{Comienzo viendo si } H^t\\:es\\:EDD $\n",
    "\n",
    "$ \\forall i\\; con \\: 1 \\leqslant i \\leqslant n \\Rightarrow \\ |(H^t)_{ii}| > \\sum_{j=1\\wedge j\\neq i}^{n} |(H^t)_{ij}| $\n",
    "\n",
    "$ Como \\; |(H^t)_{ii}| = 1 \\; , \\; \\forall i \\; con \\: 1 \\leqslant i \\leqslant n , \\; entonces\\; es\\; lo\\; mismo$\n",
    "\n",
    "$ \\forall i\\; con \\: 1 \\leqslant i \\leqslant n \\Rightarrow \\ 1 > \\sum_{j=1\\wedge j\\neq i}^{n} |(H^t)_{ij}| $\n",
    "\n",
    "$ Ahora $\n",
    "\n",
    "$ \\sum_{j=1\\wedge j\\neq i}^{n} |(H^t)_{ij}| = \\sum_{j=1\\wedge j\\neq i}^{n} |-p\\frac{(W^t)_{ij}}{c_i}| $\n",
    "\n",
    "$ Como\\; p>0, \\:y\\; \\frac{(W^t)_{ij}}{c_i} \\geq 0 $\n",
    "\n",
    "$ \\sum_{j=1\\wedge j\\neq i}^{n} |(H^t)_{ij}| = \\sum_{j=1\\wedge j\\neq i}^{n} p\\frac{(W^t)_{ij}}{c_i} = p* \\sum_{j=1\\wedge j\\neq i}^{n} \\frac{(W^t)_{ij}}{c_i} $\n",
    "\n",
    "$ Como \\; p < 1 $\n",
    "\n",
    "$ p* \\sum_{j=1\\wedge j\\neq i}^{n} \\frac{(W^t)_{ij}}{c_i} < \\sum_{j=1\\wedge j\\neq i}^{n} \\frac{(W^t)_{ij}}{c_i} = \\frac{1}{c_i}* \\sum_{j=1\\wedge j\\neq i}^{n} (W^t)_{ij} $\n",
    "\n",
    "$ Ahora \\; \\sum_{j=1\\wedge j\\neq i}^{n} (W^t)_{ij} = c_i \\; , entonces $\n",
    "\n",
    "$ \\frac{1}{c_i}* \\sum_{j=1\\wedge j\\neq i}^{n} (W^t)_{ij} = \\frac{c_i}{c_i} = 1,\\; por\\; lo\\; tanto,\\; H^t\\; es\\; EDD$\n",
    "\n",
    "$ \\text{Si H transpuesta es EDD, entonces H transpuesta es inversible.} $\n",
    "$ \\text{Si H transpuesta es inversible entonces H es inversible.} $\n",
    "\n",
    "$(2.)\\; \\text{Ahora queremos probar que si H transpuesta es EDD, entonces sus submatrices también son EDD} $\n",
    "\n",
    "$ Caso\\; base: \\forall i\\; con \\: 1 \\leqslant i \\leqslant n \\Rightarrow \\ 1 > \\sum_{j=1\\wedge j\\neq i}^{n} |(H^t)[1:n,1:n]_{ij}|,\\; ya\\; está\\; demostrado $\n",
    "\n",
    "$ H.I.: \\forall i\\; con \\: 1 \\leqslant i \\leqslant k \\Rightarrow \\ 1 > \\sum_{j=1\\wedge j\\neq i}^{k} |(H^t)[1:k,1:k]_{ij}| $\n",
    "\n",
    "$ Qpq :  \\forall i\\; con \\: 1 \\leqslant i \\leqslant k-1 \\Rightarrow \\ 1 > \\sum_{j=1\\wedge j\\neq i}^{k-1} |(H^t)[1:k-1,1:k-1]_{ij}| $\n",
    "\n",
    "$ Por\\; hipótesis\\; inductiva\\; puedo\\; decir $\n",
    "\n",
    "$ \\forall i\\; con \\: 1 \\leqslant i \\leqslant k-1 \\Rightarrow \\ 1 > \\sum_{j=1\\wedge j\\neq i}^{k} |(H^t)[1:k,1:k]_{ij}| $\n",
    "\n",
    "$ Ahora $\n",
    "\n",
    "$ \\sum_{j=1\\wedge j\\neq i}^{k} |(H^t)[1:k,1:k]_{ij}| = |(H^t)[1:k,1:k]_{ik}| + \\sum_{j=1\\wedge j\\neq i}^{k-1} |(H^t)[1:k-1,1:k-1]_{ij}| $\n",
    "\n",
    "$ Como\\; |(H^t)[1:k,1:k]_{ik}| \\geq 0 $\n",
    "\n",
    "$ |(H^t)[1:k,1:k]_{ik}| + \\sum_{j=1\\wedge j\\neq i}^{k-1} |(H^t)[1:k-1,1:k-1]_{ij}| \\geq \\sum_{j=1\\wedge j\\neq i}^{k-1} |(H^t)[1:k-1,1:k-1]_{ij}|  $\n",
    "\n",
    "$ Entonces,\\; juntando\\; las\\; desigualdades $\n",
    "\n",
    "$ 1 > \\sum_{j=1\\wedge j\\neq i}^{k-1} |(H^t)[1:k-1,1:k-1]_{ij}|\\;, \\forall i\\; con \\: 1 \\leqslant i \\leqslant k-1 $\n",
    "\n",
    "$ Lo\\; que\\; queríamos\\; probar $\n",
    "\n",
    "$ \\text{Si cada submatriz de H transpuesta es EDD, entonces cada submatriz de H transpuesta es inversible.} $\n",
    "$ \\text{Si cada submatriz de H transpuesta es inversible entonces cada submatriz de H es inversible.} $\n",
    "\n",
    "$ Siendo\\; H \\in R^{\\,n\\times n}\\; y\\; como\\; \\forall k\\; con\\; 1 \\leq k \\leq n,\\; H[1:k,1:k]\\; es\\; invertible,\\\\ entonces\\; existe\\; factorización\\; LU\\; de\\; H$\n"
   ]
  },
  {
   "cell_type": "markdown",
   "id": "98962849",
   "metadata": {},
   "source": []
  },
  {
   "cell_type": "markdown",
   "id": "fe17d150",
   "metadata": {},
   "source": []
  },
  {
   "cell_type": "markdown",
   "id": "b6527567-ea14-4fb0-8cbb-3faa67fee8c1",
   "metadata": {},
   "source": [
    "---"
   ]
  },
  {
   "cell_type": "markdown",
   "id": "c0620b64-0c90-4893-9cc7-65e1ec784254",
   "metadata": {},
   "source": [
    "## Implementación"
   ]
  },
  {
   "cell_type": "markdown",
   "id": "278fa511-9ad9-4124-b1b9-9198f1467c08",
   "metadata": {},
   "source": [
    "Implementar la factorización $LU$ para resolver el sistema de ecuaciones (6) que permite hallar la solución buscada (es decir, el ranking de páginas). Se podrá utilizar la función **scipy.linalg.solve_triangular** para resolver sistemas triangulares.\n",
    "\n",
    "En el siguiente cuerpo de la notebook se genera un test que va a evaluar la función que resuelve el sistema a través de un test unitario. La resolución debe realizarse en el archivo **funciones.py** que acompaña el **template-alumnos**."
   ]
  },
  {
   "cell_type": "code",
   "execution_count": 3,
   "id": "b0c1dd63",
   "metadata": {},
   "outputs": [],
   "source": [
    "from funciones import *"
   ]
  },
  {
   "cell_type": "markdown",
   "id": "589dfc50",
   "metadata": {},
   "source": [
    "### Test Unitario\n",
    "En el archivo funciones.py hay que implementar la función que obtienen el ranking de las páginas.\n",
    "Se espera que el llamado a la siguiente función arroje un valor esperado"
   ]
  },
  {
   "cell_type": "code",
   "execution_count": 4,
   "id": "be9e4b56",
   "metadata": {},
   "outputs": [
    {
     "name": "stdout",
     "output_type": "stream",
     "text": [
      "**************************************************\n",
      "Test unitario 1\n",
      "OUCH!! - No paso el test unitario\n",
      "**************************************************\n"
     ]
    },
    {
     "data": {
      "image/png": "[encoded data removed]",
      "text/plain": [
       "<Figure size 640x480 with 1 Axes>"
      ]
     },
     "metadata": {},
     "output_type": "display_data"
    }
   ],
   "source": [
    "#ARCHIVOS DE ENTRADA\n",
    "archivo_test = './tests/test_dosestrellas.txt'\n",
    "    \n",
    "#CARGA DE ARCHIVO EN GRAFO\n",
    "W = leer_archivo(archivo_test)\n",
    "\n",
    "dibujarGrafo(W, print_ejes=False)\n",
    "\n",
    "# defino la probabilidad de salto de continuar los links de la pagina actual\n",
    "p = 0.5\n",
    "# Realizo el test unitario para el calculo del mayor score, que pruebe que el codigo funciona correctamente.\n",
    "print('*'*50)\n",
    "print('Test unitario 1')\n",
    "try:\n",
    "    assert(np.isclose(obtenerMaximoRankingScore(W, p), 0.1811))\n",
    "except:\n",
    "    print('OUCH!! - No paso el test unitario')\n",
    "else:\n",
    "    print('BIEN! - Paso correctamente el test unitario')\n",
    "print('*'*50)\n"
   ]
  },
  {
   "cell_type": "markdown",
   "id": "4a536571-fb90-42ca-af58-a99efd1ebaa9",
   "metadata": {},
   "source": [
    "### Test Unitarios Adicionales\n",
    "\n",
    "El grupo **deberá** proponer al menos 3 instancias de prueba no triviales, dos de las cuales deben ser de tipo TODOS LOS NODOS CONECTADOS, y otra de tipo NINGUNO CONECTADO. La tercera instancia queda a criterio del grupo.\n",
    "\n",
    "Para el análisis, guiarse y responder las siguientes preguntas: \n",
    "\n",
    "* ¿Cómo es el ranking obtenido en cada caso de acuerdo a la estructura del grafo páginas? \n",
    "* ¿Qué conclusiones pueden sacar de la interpretación de los resultados?\n",
    "\n",
    "Graficar los grafos usando las funciones en el **funciones.py**."
   ]
  },
  {
   "cell_type": "code",
   "execution_count": null,
   "id": "07f69bd8-9a22-4fa0-8e69-7e2580e80459",
   "metadata": {},
   "outputs": [],
   "source": []
  },
  {
   "cell_type": "markdown",
   "id": "19403a3c-422b-4bdb-85b3-058b90560067",
   "metadata": {},
   "source": [
    "---"
   ]
  },
  {
   "cell_type": "markdown",
   "id": "2b22c6d2-4f83-4f2f-a3f0-6a7bc02db06a",
   "metadata": {},
   "source": [
    "## Enunciado\n",
    "\n",
    "Sobre los casos de test que se encuentran en el folder `tests`, se pide realizar los análisis siguientes para todos los grafos del folder."
   ]
  },
  {
   "cell_type": "markdown",
   "id": "d121780f-0961-4732-98d0-5183e854f321",
   "metadata": {},
   "source": [
    "### Análisis Cuantitativo\n",
    "\n",
    "Para el análisis cuantitativo, se pide, como mínimo, estudiar los tiempos de procesamiento en función del tamaño del grafo de páginas y de la densidad del mismo. Para esto, se espera que presenten gráficos mostrando los tiempos de ejecución para obtener la solución en función de la cantidad de nodos/links de diferentes grafos de páginas aleatorios.\n"
   ]
  },
  {
   "cell_type": "code",
   "execution_count": null,
   "id": "52d4cf03-2016-4894-a2fa-611009372fd9",
   "metadata": {},
   "outputs": [],
   "source": []
  },
  {
   "cell_type": "markdown",
   "id": "5c526dc0-ec1e-4d7c-a7a5-a2d149b10995",
   "metadata": {},
   "source": [
    "### Análisis Cualitativo\n",
    "\n",
    "Para el análisis cualitativo se deberán estudiar los rankings obtenidos, en función de la estructura del grafo, y del valor de $p$. Para esto, se espera que presenten gráficos mostrando las probabilidades de las páginas mejor rankeadas en función del valor de $p$. \n"
   ]
  },
  {
   "cell_type": "code",
   "execution_count": null,
   "id": "1eaefc30-264c-4441-89b6-96426c214016",
   "metadata": {},
   "outputs": [],
   "source": []
  },
  {
   "cell_type": "markdown",
   "id": "5bced759-2060-4751-9a30-7c77ddcbefb0",
   "metadata": {},
   "source": [
    "### Dos estrellas\n",
    "\n",
    "Para el caso **test_dosestrellas.txt** se pregunta: \n",
    "\n",
    "¿Cuál es la mínima cantidad de links que se deben agregar para que la pagina correspondiente al nodo 1 quede primera en el ranking? ¿ Cómo se modificó la conectividad? Analizar.\n",
    "\n"
   ]
  },
  {
   "cell_type": "code",
   "execution_count": null,
   "id": "113e745d-0c8e-4694-b362-8f1bfe50db73",
   "metadata": {},
   "outputs": [],
   "source": []
  },
  {
   "cell_type": "code",
   "execution_count": null,
   "id": "88371d3e-899c-4f86-a248-e01db2c1f5d0",
   "metadata": {},
   "outputs": [],
   "source": []
  }
 ],
 "metadata": {
  "kernelspec": {
   "display_name": "Python 3 (ipykernel)",
   "language": "python",
   "name": "python3"
  },
  "language_info": {
   "codemirror_mode": {
    "name": "ipython",
    "version": 3
   },
   "file_extension": ".py",
   "mimetype": "text/x-python",
   "name": "python",
   "nbconvert_exporter": "python",
   "pygments_lexer": "ipython3",
   "version": "3.11.4"
  }
 },
 "nbformat": 4,
 "nbformat_minor": 5
}
